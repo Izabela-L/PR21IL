{
 "cells": [
  {
   "cell_type": "markdown",
   "metadata": {
    "lang": "en"
   },
   "source": [
    "## Data preparation, basic statistics and visualization\n",
    "\n",
    "Data mining, assignment, `28.3.2022.`  \n",
    "**`Izabela Lesac`**"
   ]
  },
  {
   "cell_type": "markdown",
   "metadata": {
    "lang": "en"
   },
   "source": [
    "An inevitable part of every project in the field of data mining is searching for,\n",
    "editing and preparing data. In this task, you will get acquainted with a dataset and use procedures for converting data into the appropriate format and do\n",
    "overview and display of basic statistics."
   ]
  },
  {
   "cell_type": "markdown",
   "metadata": {
    "lang": "en"
   },
   "source": [
    "### Data\n",
    "\n",
    "In the task you will review and prepare Hollywood movie ratings from\n",
    "the [MovieLens](https://grouplens.org/datasets/movielens/) collection from the period **1995-2016**.\n",
    "\n",
    "The same data is used in all assignments, so you should get to know the data well. This is a database for\n",
    "evaluating recommendations systems that include viewers and their ratings on a scale of 1 to 5.\n",
    "In addition to the basic user and rating matrix, it includes also movie information (e.g., genre, date, tags, players).\n",
    "\n",
    "The dataset is in folder `./podatki/ml-latest-small`. The database contains the following files:\n",
    "\n",
    "* ratings.csv: user data and ratings,\n",
    "* movies.csv: movie genre information,\n",
    "* cast.csv: player information,\n",
    "* tags.csv: tag information (\\emph{tags}),\n",
    "* links.csv: links to related databases.\n",
    "\n",
    "Before starting to solve the task, take a good look at the data and read the **README.txt** file. You can learn about the details on the [website](http://files.grouplens.org/datasets/movielens/ml-latest-small-README.html).\n",
    "\n",
    "Prepare methods for loading data into the appropriate data structures. They will come in handy\n",
    "also for further tasks.\n",
    "Pay attention to the size of the data."
   ]
  },
  {
   "cell_type": "markdown",
   "metadata": {
    "lang": "en"
   },
   "source": [
    "Write down the code to read the files and prepare the appropriate matrices (and other structures) of the data that you will use to answer the questions below.\n",
    "\n",
    "You can split the code into multiple cells."
   ]
  },
  {
   "cell_type": "code",
   "execution_count": null,
   "metadata": {},
   "outputs": [],
   "source": [
    "import numpy as np\n",
    "import matplotlib.pyplot as plt\n",
    "import Orange"
   ]
  },
  {
   "cell_type": "code",
   "execution_count": null,
   "metadata": {},
   "outputs": [],
   "source": [
    "tableRatings = Orange.data.Table('podatki/ml-latest-small/ratings.csv')\n",
    "tableMovies = Orange.data.Table('podatki/ml-latest-small/movies.csv')\n",
    "tableCast = Orange.data.Table('podatki/ml-latest-small/cast.csv')"
   ]
  },
  {
   "cell_type": "markdown",
   "metadata": {
    "lang": "en"
   },
   "source": [
    "### Questions\n",
    "\n",
    "The main purpose of data mining is *knowledge discovery from data*,\n",
    "i.e., answering questions using computational approaches.\n",
    "\n",
    "By using the principles you have learned on the exercises and lectures, answer\n",
    "the questions below. For each question, think carefully about the way you will\n",
    "best give, show or justify the answer. The essential part is the answers to\n",
    "questions rather than the implemention of your solution."
   ]
  },
  {
   "cell_type": "markdown",
   "metadata": {
    "lang": "en"
   },
   "source": [
    "#### Question 1 (15%):\n",
    "Which movies are the best on average? Prepare a list of\n",
    "movies and their average ratings and print 10 movies from the top of the list.\n",
    "Do you see any problems with such an assessment? How could you solve it? What are they?\n",
    "results of that?\n",
    "\n",
    "You can split the code into multiple cells."
   ]
  },
  {
   "cell_type": "code",
   "execution_count": null,
   "metadata": {},
   "outputs": [],
   "source": [
    "avgRatings = []\n",
    "for movie in tableMovies:\n",
    "    \n",
    "    ratingMovieId = Orange.data.filter.SameValue(tableRatings.domain['movieId'],movie['movieId'])\n",
    "    movieRating = ratingMovieId(tableRatings)\n",
    "    movieTitle = str(movie['title'])\n",
    "      \n",
    "    ratingsN = 0\n",
    "    sumR = 0\n",
    "    \n",
    "    for rating in movieRating:\n",
    "        sumR += float(rating[2])\n",
    "        ratingsN += 1\n",
    "        \n",
    "    if ratingsN!=0:\n",
    "        avgRating = str(sumR/ratingsN)\n",
    "    else:\n",
    "        avgRating = 0\n",
    "    avgRatings.append([movieTitle,ratingsN,avgRating])"
   ]
  },
  {
   "cell_type": "code",
   "execution_count": null,
   "metadata": {},
   "outputs": [],
   "source": [
    "avgRatingsSorted = sorted(avgRatings, key=lambda movie: float(movie[2]), reverse=True)\n",
    "print(avgRatingsSorted[:10])"
   ]
  },
  {
   "cell_type": "markdown",
   "metadata": {},
   "source": [
    "Answer: This assessment gives us the average top rated movies. However, it does not account for the number of ratings each movie has. So it is not very accurate, because the movies have been rated highly but only once. We could fix this by saying each movie has to have at least x number of ratings to be considered. By adding this requirement we make sure our results are not biased towards movies with a low number of users rating them."
   ]
  },
  {
   "cell_type": "code",
   "execution_count": null,
   "metadata": {},
   "outputs": [],
   "source": [
    "avgRatingsNew = []\n",
    "for movie in avgRatingsSorted:\n",
    "    if movie[1] > 100:\n",
    "        avgRatingsNew.append(movie)\n",
    "print(avgRatingsNew[:10])"
   ]
  },
  {
   "cell_type": "markdown",
   "metadata": {
    "lang": "en"
   },
   "source": [
    "Answer: Now we only consider movies which have more than 100 ratings. This gives us a more accurate view of top rated movies. "
   ]
  },
  {
   "cell_type": "markdown",
   "metadata": {
    "lang": "en"
   },
   "source": [
    "#### Question 2 (15%):\n",
    "Each film belongs to one or more genres.\n",
    "How many genres are there? Show the distribution of genres using appropriate\n",
    "visualization.\n",
    "\n",
    "You can split the code into multiple cells."
   ]
  },
  {
   "cell_type": "code",
   "execution_count": null,
   "metadata": {},
   "outputs": [],
   "source": [
    "genreList = []\n",
    "for movie in tableMovies:\n",
    "    movieGenres = str(movie[\"genres\"]).split(\"|\")\n",
    "    for genre in movieGenres:\n",
    "        if (genre not in genreList):\n",
    "            genreList.append(genre)\n",
    "print(genreList)\n",
    "len(genreList)"
   ]
  },
  {
   "cell_type": "markdown",
   "metadata": {
    "lang": "en"
   },
   "source": [
    "Answer: There are 20 genres, but some movies have no genre listed which also counts as a genre in this dataset."
   ]
  },
  {
   "cell_type": "code",
   "execution_count": null,
   "metadata": {},
   "outputs": [],
   "source": [
    "from csv import DictReader\n",
    "\n",
    "genresdict = {}\n",
    "readerMovies = DictReader(open('podatki/ml-latest-small/movies.csv','rt', encoding='utf-8'))\n",
    "for row in readerMovies:\n",
    "    movieM = row[\"movieId\"]\n",
    "    titleM = row[\"title\"]\n",
    "    genresM = row[\"genres\"]\n",
    "    \n",
    "    single = genresM.split(\"|\")\n",
    "    for genre in single:\n",
    "        if genre not in genresdict:\n",
    "            genresdict.update({genre:1})\n",
    "        else:\n",
    "            genresdict[genre] += 1\n",
    "\n",
    "plt.bar(genresdict.keys(), genresdict.values(), align='center', width=0.5,color='magenta')\n",
    "plt.xticks(rotation = 90)\n",
    "plt.xlabel('genres')\n",
    "plt.ylabel('movies')\n",
    "plt.show()"
   ]
  },
  {
   "cell_type": "markdown",
   "metadata": {
    "lang": "en"
   },
   "source": [
    "#### Question 3 (20%):\n",
    "The number of ratings is different for each film. But is there a relationship between the number of ratings and the average movie rating? Describe the procedure that you used to answer the question.\n",
    "\n",
    "You can split the code into multiple cells."
   ]
  },
  {
   "cell_type": "code",
   "execution_count": null,
   "metadata": {},
   "outputs": [],
   "source": [
    "avgRatingsList = []\n",
    "numberRaitings = []\n",
    "\n",
    "for movie in tableMovies:\n",
    "    ratingMovieId = Orange.data.filter.SameValue(tableRatings.domain['movieId'],movie['movieId'])\n",
    "    movieRating = ratingMovieId(tableRatings)\n",
    "    movieTitle = str(movie['title'])\n",
    "      \n",
    "    ratingsN = 0\n",
    "    sumR = 0\n",
    "    \n",
    "    for rating in movieRating:\n",
    "        sumR += float(rating[2])\n",
    "        ratingsN += 1\n",
    "        \n",
    "    if ratingsN!=0:\n",
    "        avgRating = sumR/ratingsN\n",
    "    else:\n",
    "        avgRating = 0\n",
    "    \n",
    "    avgRatingsList.append(avgRating)\n",
    "    numberRaitings.append(ratingsN)"
   ]
  },
  {
   "cell_type": "code",
   "execution_count": null,
   "metadata": {},
   "outputs": [],
   "source": [
    "plt.scatter(avgRatingList, raitingList, color='magenta')\n",
    "plt.xlabel('average rating of a movie')\n",
    "plt.ylabel('# of ratings')\n",
    "plt.show()"
   ]
  },
  {
   "cell_type": "markdown",
   "metadata": {
    "lang": "en"
   },
   "source": [
    "Answer: Yes, there is a correlation between the number of ratings and the average rating of a movie. Films that are rated better have more ratings. In other words, people tend to watch movies that have good ratings and avoid movies with low raitings."
   ]
  },
  {
   "cell_type": "markdown",
   "metadata": {
    "lang": "en"
   },
   "source": [
    "#### Question 4 (30%):\n",
    "Each rating was entered on a specific date (column\n",
    "*timestamp*). Does the popularity of individual films change over time?\n",
    "Solve the problem by allocating ratings for a given film by time and at any timepoint calculate the average for the last 30, 50, or 100 ratings. Draw a graph, how the rating changes and show it for two interesting examples of movies.\n",
    "\n",
    "You can split the code into multiple cells."
   ]
  },
  {
   "cell_type": "code",
   "execution_count": null,
   "metadata": {},
   "outputs": [],
   "source": [
    "import datetime\n",
    "\n",
    "ratings1 = []\n",
    "ratings2 = []\n",
    "\n",
    "movie1 = 3262\n",
    "movie2 = 4437\n",
    "\n",
    "ratingMovieId1 = Orange.data.filter.SameValue(tableRatings.domain['movieId'],movie1)\n",
    "movie1 = ratingMovieId1(tableRatings)\n",
    "for rating in movie1:\n",
    "    date = datetime.datetime.utcfromtimestamp(rating[3])\n",
    "    ratings1.append([rating[2],date])\n",
    "\n",
    "ratingMovieId2  = Orange.data.filter.SameValue(tableRatings.domain['movieId'],movie2)\n",
    "movie2 = ratingMovieId2(tableRatings)\n",
    "for rating in movie2:\n",
    "    date = datetime.datetime.utcfromtimestamp(rating[3])\n",
    "    ratings2.append([rating[2],date])"
   ]
  },
  {
   "cell_type": "code",
   "execution_count": null,
   "metadata": {},
   "outputs": [],
   "source": []
  },
  {
   "cell_type": "markdown",
   "metadata": {
    "lang": "en"
   },
   "source": [
    "Answer: **write down the answer and explain it**"
   ]
  },
  {
   "cell_type": "markdown",
   "metadata": {
    "lang": "en"
   },
   "source": [
    "#### Question 5 (20%):\n",
    "How would you rate the popularity of individual actors? Describe the procedure\n",
    " for evaluating and print the 10 most popular actors.\n",
    "\n",
    "You can split the code into multiple cells."
   ]
  },
  {
   "cell_type": "code",
   "execution_count": null,
   "metadata": {},
   "outputs": [],
   "source": [
    "avgRatings = []\n",
    "for movie in tableMovies:\n",
    "    \n",
    "    ratingMovieId = Orange.data.filter.SameValue(tableRatings.domain['movieId'],movie['movieId'])\n",
    "    movieRating = ratingMovieId(tableRatings)\n",
    "    movieTitle = str(movie['title'])\n",
    "      \n",
    "    ratingsN = 0\n",
    "    sumR = 0\n",
    "    \n",
    "    for rating in movieRating:\n",
    "        sumR += float(rating[2])\n",
    "        ratingsN += 1\n",
    "        \n",
    "    if ratingsN!=0:\n",
    "        avgRating = str(sumR/ratingsN)\n",
    "    else:\n",
    "        avgRating = 0\n",
    "    avgRatings.append([movieTitle,ratingsN,avgRating])\n",
    "    \n",
    "avgRatingsNew = []\n",
    "for movie in avgRatingsSorted:\n",
    "    if movie[1] > 100:\n",
    "        avgRatingsNew.append(movie)"
   ]
  },
  {
   "cell_type": "code",
   "execution_count": null,
   "metadata": {},
   "outputs": [],
   "source": [
    "avgRatingsNew = []\n",
    "for movie in avgRatingsSorted:\n",
    "    if movie[1] > 100:\n",
    "        avgRatingsNew.append(movie)"
   ]
  },
  {
   "cell_type": "code",
   "execution_count": null,
   "metadata": {},
   "outputs": [],
   "source": [
    "actors = {}\n",
    "for actors in tableCast:\n",
    "    actorList = str(actors['cast']).split('|')\n",
    "    moviesActors =  Orange.data.filter.SameValue(tableMovies.domain['movieId'], actors[\"movieId\"])\n",
    "    moviesCast = moviesActors(tableMovies)\n",
    "            \n"
   ]
  },
  {
   "cell_type": "markdown",
   "metadata": {
    "lang": "en"
   },
   "source": [
    "Answer: One way would be to get a list of actors and the number of movies they acted in. The more movies - the more popular an actor. However, this is flawed and doesn't quite tell us how popular an actor is, just that they act a lot. We should also take into account the rating of the movie. "
   ]
  },
  {
   "cell_type": "markdown",
   "metadata": {
    "lang": "en"
   },
   "source": [
    "#### Bonus question (5%):\n",
    "\n",
    "What's your favorite movie? Why?"
   ]
  },
  {
   "cell_type": "markdown",
   "metadata": {
    "lang": "en"
   },
   "source": [
    "Answer: John Carpenter’s The Thing because of its incredbile practical effects"
   ]
  },
  {
   "cell_type": "markdown",
   "metadata": {},
   "source": []
  },
  {
   "cell_type": "markdown",
   "metadata": {
    "lang": "en"
   },
   "source": [
    "### Notes\n",
    "You can use the built-in `csv` module to load data."
   ]
  },
  {
   "cell_type": "code",
   "execution_count": null,
   "metadata": {},
   "outputs": [],
   "source": [
    "from csv import DictReader\n",
    "\n",
    "reader = DictReader(open('podatki/ml-latest-small/ratings.csv', 'rt', encoding='utf-8'))\n",
    "for row in reader:\n",
    "    user = row[\"userId\"]\n",
    "    movie = row[\"movieId\"]\n",
    "    rating = row[\"rating\"]\n",
    "    timestamp = row[\"timestamp\"]"
   ]
  },
  {
   "cell_type": "markdown",
   "metadata": {
    "lang": "en"
   },
   "source": [
    "Data in the last line of the file:"
   ]
  },
  {
   "cell_type": "code",
   "execution_count": null,
   "metadata": {},
   "outputs": [],
   "source": [
    "user, movie, rating, timestamp"
   ]
  },
  {
   "cell_type": "markdown",
   "metadata": {
    "lang": "en"
   },
   "source": [
    "Convert the time format (*Unix time*). Code about the structure is listed in documentation of the module  [`datetime`](https://docs.python.org/3/library/datetime.html#strftime-and-strptime-behavior)."
   ]
  },
  {
   "cell_type": "code",
   "execution_count": null,
   "metadata": {},
   "outputs": [],
   "source": [
    "from datetime import datetime\n",
    "\n",
    "t = 1217897793 # Unix-time\n",
    "ts = datetime.fromtimestamp(t).strftime('%Y-%m-%d %H:%M')\n",
    "ts"
   ]
  }
 ],
 "metadata": {
  "kernelspec": {
   "display_name": "Python 3 (ipykernel)",
   "language": "python",
   "name": "python3"
  },
  "language_info": {
   "codemirror_mode": {
    "name": "ipython",
    "version": 3
   },
   "file_extension": ".py",
   "mimetype": "text/x-python",
   "name": "python",
   "nbconvert_exporter": "python",
   "pygments_lexer": "ipython3",
   "version": "3.8.12"
  },
  "latex_envs": {
   "LaTeX_envs_menu_present": true,
   "autocomplete": true,
   "bibliofile": "biblio.bib",
   "cite_by": "apalike",
   "current_citInitial": 1,
   "eqLabelWithNumbers": true,
   "eqNumInitial": 1,
   "hotkeys": {
    "equation": "Ctrl-E",
    "itemize": "Ctrl-I"
   },
   "labels_anchors": false,
   "latex_user_defs": false,
   "report_style_numbering": false,
   "user_envs_cfg": false
  },
  "nbTranslate": {
   "displayLangs": [
    "en"
   ],
   "hotkey": "alt-t",
   "langInMainMenu": true,
   "sourceLang": "sl",
   "targetLang": "en",
   "useGoogleTranslate": true
  }
 },
 "nbformat": 4,
 "nbformat_minor": 2
}
